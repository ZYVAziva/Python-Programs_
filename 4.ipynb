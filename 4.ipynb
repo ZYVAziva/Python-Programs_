{
 "cells": [
  {
   "cell_type": "code",
   "execution_count": null,
   "id": "f42a9e99",
   "metadata": {},
   "outputs": [],
   "source": [
    "#Question no:4"
   ]
  },
  {
   "cell_type": "code",
   "execution_count": null,
   "id": "1536c86f",
   "metadata": {},
   "outputs": [],
   "source": [
    "4. Write a Python code to check whether a given year is a leap year or not [An year is a leap \n",
    "   year if it’s divisible by 4 but not divisible by 100 except for those divisible by 400]. Get the \n",
    "   year as a user input Strip all characters from your ktu id ( eg cea14cs001 → 14001 ) Input \n",
    "    this to your program and find out whether it is a leap year. Give the result as a comment\n",
    "   ( year will be read as year_cs001 if your id has cs001 as the last 5 characters)"
   ]
  },
  {
   "cell_type": "code",
   "execution_count": null,
   "id": "b7d14899",
   "metadata": {},
   "outputs": [],
   "source": [
    "# NAME : GOPIKA GOPAKUMAR"
   ]
  },
  {
   "cell_type": "code",
   "execution_count": null,
   "id": "bf18fe01",
   "metadata": {},
   "outputs": [],
   "source": [
    "# ROLL NO: 10"
   ]
  },
  {
   "cell_type": "code",
   "execution_count": null,
   "id": "bc82de94",
   "metadata": {},
   "outputs": [],
   "source": [
    "# KTU ID :CEA20EC010"
   ]
  },
  {
   "cell_type": "code",
   "execution_count": 10,
   "id": "16a476d7",
   "metadata": {},
   "outputs": [
    {
     "name": "stdout",
     "output_type": "stream",
     "text": [
      "Enter the year : 20010\n",
      "20010  is not a leap year. \n"
     ]
    }
   ],
   "source": [
    "try:\n",
    "    \n",
    "    year_ec010=int(input(\"Enter the year : \"))       #Input 20010 (KTU ID :CEA20EC010)\n",
    "    \n",
    "    if ((year_ec010%4==0 and year_ec010%100!=0) or (year_ec010%100==0 and year_ec010%400==0)):\n",
    "       print(year_ec010,\" is a leap year.\")\n",
    "    \n",
    "    else:\n",
    "        print(year_ec010,\" is not a leap year. \")\n",
    "        \n",
    "except valueError:\n",
    "    print(\"Invalid\")\n",
    "    \n",
    "    # Output:\n",
    "    #     20010  is not a leap year.\n",
    "    \n",
    "    "
   ]
  },
  {
   "cell_type": "code",
   "execution_count": null,
   "id": "31f58ebf",
   "metadata": {},
   "outputs": [],
   "source": []
  }
 ],
 "metadata": {
  "kernelspec": {
   "display_name": "Python 3 (ipykernel)",
   "language": "python",
   "name": "python3"
  },
  "language_info": {
   "codemirror_mode": {
    "name": "ipython",
    "version": 3
   },
   "file_extension": ".py",
   "mimetype": "text/x-python",
   "name": "python",
   "nbconvert_exporter": "python",
   "pygments_lexer": "ipython3",
   "version": "3.8.5"
  }
 },
 "nbformat": 4,
 "nbformat_minor": 5
}
