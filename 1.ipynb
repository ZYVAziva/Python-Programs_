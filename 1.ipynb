{
 "cells": [
  {
   "cell_type": "code",
   "execution_count": null,
   "id": "3445803b",
   "metadata": {},
   "outputs": [],
   "source": [
    "1 Write a Python program to reverse a number and also find the sum of digits of the number.\n",
    "  Prompt the user for input. Make sure that only numbers are accepted. Strip all characters\n",
    "  from your ktu id ( eg cea14cs001 → 14001 ) Input this to your program. Include this as a\n",
    "  comment in your code\n",
    "  ( eg for variables to be used number_cs001 =input(“ Enter a number))"
   ]
  },
  {
   "cell_type": "code",
   "execution_count": null,
   "id": "26868533",
   "metadata": {},
   "outputs": [],
   "source": [
    "# NAME : GOPIKA GOPAKUMAR"
   ]
  },
  {
   "cell_type": "code",
   "execution_count": null,
   "id": "da019715",
   "metadata": {},
   "outputs": [],
   "source": [
    "#ROLL NO: 10"
   ]
  },
  {
   "cell_type": "code",
   "execution_count": null,
   "id": "3393b764",
   "metadata": {},
   "outputs": [],
   "source": [
    "#KTU ID: CEA20EC010"
   ]
  },
  {
   "cell_type": "code",
   "execution_count": null,
   "id": "b416bc1c",
   "metadata": {},
   "outputs": [],
   "source": [
    "#Input : 20010 (KTU ID :CEA20EC010   -  20010)"
   ]
  },
  {
   "cell_type": "code",
   "execution_count": 13,
   "id": "db04cb0a",
   "metadata": {},
   "outputs": [
    {
     "name": "stdout",
     "output_type": "stream",
     "text": [
      "Enter the Number : 0\n",
      "Reversed number is :  0\n",
      "Sum of digits is :  0\n"
     ]
    }
   ],
   "source": [
    "try :\n",
    "    num_ec010=int(input(\"Enter the Number : \"))    # KTU ID :CEA20EC010   -  20010\n",
    "\n",
    "except Value_Error:\n",
    "    print(\"Error\")\n",
    "    \n",
    "s_ec010=0\n",
    "sum_ec010=0\n",
    "\n",
    "while num_ec010>0:\n",
    "        reminder_ec010= num_ec010%10\n",
    "        sum_ec010=sum_ec010+reminder_ec010\n",
    "        s_ec010=s_ec010*10+reminder_ec010\n",
    "        num_ec010=num_ec010//10\n",
    "\n",
    "print(\"Reversed number is : \",s_ec010)    \n",
    "print(\"Sum of digits is : \",sum_ec010) \n",
    "\n",
    "\n"
   ]
  },
  {
   "cell_type": "code",
   "execution_count": null,
   "id": "7dfcc08c",
   "metadata": {},
   "outputs": [],
   "source": []
  },
  {
   "cell_type": "code",
   "execution_count": null,
   "id": "885f9930",
   "metadata": {},
   "outputs": [],
   "source": []
  },
  {
   "cell_type": "code",
   "execution_count": null,
   "id": "3ad7459e",
   "metadata": {},
   "outputs": [],
   "source": []
  }
 ],
 "metadata": {
  "kernelspec": {
   "display_name": "Python 3 (ipykernel)",
   "language": "python",
   "name": "python3"
  },
  "language_info": {
   "codemirror_mode": {
    "name": "ipython",
    "version": 3
   },
   "file_extension": ".py",
   "mimetype": "text/x-python",
   "name": "python",
   "nbconvert_exporter": "python",
   "pygments_lexer": "ipython3",
   "version": "3.8.5"
  }
 },
 "nbformat": 4,
 "nbformat_minor": 5
}
