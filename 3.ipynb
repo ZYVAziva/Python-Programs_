{
 "cells": [
  {
   "cell_type": "code",
   "execution_count": null,
   "id": "1f0a33ad",
   "metadata": {},
   "outputs": [],
   "source": [
    "# Quention: 3"
   ]
  },
  {
   "cell_type": "code",
   "execution_count": null,
   "id": "4b436172",
   "metadata": {},
   "outputs": [],
   "source": [
    "3. Write a program that counts the number of words, vowels, consonants and special \n",
    "characters in a string. ( special characters @ # $ % ) Go to the site \n",
    "https://miniwebtool.com/random-quote-generator/ Generate a random quote . Give it as an \n",
    "input. Give the quote and the result as a comment ( follow the naming convention mentioned \n",
    "above for all variables"
   ]
  },
  {
   "cell_type": "code",
   "execution_count": null,
   "id": "4e2b4c1d",
   "metadata": {},
   "outputs": [],
   "source": [
    "# NAME : GOPIKA GOPAKUMAR "
   ]
  },
  {
   "cell_type": "code",
   "execution_count": null,
   "id": "a4c1009c",
   "metadata": {},
   "outputs": [],
   "source": [
    "# ROLL NO : 10"
   ]
  },
  {
   "cell_type": "code",
   "execution_count": null,
   "id": "7a0121fe",
   "metadata": {},
   "outputs": [],
   "source": [
    "# KTU ID : CEA20EC010"
   ]
  },
  {
   "cell_type": "code",
   "execution_count": 11,
   "id": "8cf8a1a4",
   "metadata": {
    "scrolled": false
   },
   "outputs": [
    {
     "name": "stdout",
     "output_type": "stream",
     "text": [
      "Enter random quote generated from 'https://miniwebtool.com/random-quote-generator' :Everything secret degenerates; nothing is safe that does not bear discussion and publicity.\n",
      "Not among the listed characters\n",
      "Not among the listed characters\n",
      "No: of Vowels: 29\n",
      "Consonant: 48\n",
      "No: of Words: 13\n",
      "Special Character: 0\n"
     ]
    }
   ],
   "source": [
    "def countCharacter(str):\n",
    " \n",
    "    vowels_ec010 = 0\n",
    "    consonant_ec010  = 0\n",
    "    words_ec010 =1\n",
    "    digit_ec010=0\n",
    "    specialChar_ec010  = 0\n",
    "    \n",
    "   \n",
    "    \n",
    "    for i in range(0, len(str)):\n",
    "         \n",
    "        char_ec010  = str[i]\n",
    " \n",
    "        if ( (char_ec010 >= 'a' and char_ec010 <= 'z') or\n",
    "             (char_ec010 >= 'A' and char_ec010 <= 'Z') ):\n",
    " \n",
    "            char_ec010 = char_ec010.lower()\n",
    " \n",
    "            if (char_ec010 == 'a' or char_ec010 == 'e' or char_ec010 == 'i'\n",
    "                        or char_ec010 == 'o' or char_ec010 == 'u'):\n",
    "        \n",
    "                vowels_ec010 += 1\n",
    "            \n",
    "            else:\n",
    "                 \n",
    "                consonant_ec010 += 1\n",
    "         \n",
    "        elif char_ec010==\" \":\n",
    "            \n",
    "            words_ec010 +=1\n",
    "            \n",
    "        elif (char_ec010 =='@' or char_ec010 =='#' or char_ec010 =='%'or char_ec010 =='%'):\n",
    "            specialChar_ec010 += 1\n",
    "              \n",
    "        else:\n",
    "              print(\"Not among the listed characters\")\n",
    "     \n",
    "    print(\"No: of Vowels:\", vowels_ec010)\n",
    "    print(\"Consonant:\", consonant_ec010)\n",
    "    print(\"No: of Words:\", words_ec010)\n",
    "    print(\"Special Character:\", specialChar_ec010)\n",
    "    \n",
    "#Input :  Everything secret degenerates; nothing is safe that does not bear discussion and publicity.\n",
    "try:\n",
    "    \n",
    "    str= input(\"Enter random quote generated from 'https://miniwebtool.com/random-quote-generator' :\")\n",
    "    countCharacter(str)  \n",
    "    \n",
    "except ValueError:\n",
    "    print(\"Invalid\")\n",
    "\n",
    " #Output:\n",
    " #   No: of Vowels: 32\n",
    " #  Consonant: 56\n",
    " # No: of Words: 16\n",
    " #   Digit: 0\n",
    " #  Special Character: 3\n",
    " \n"
   ]
  }
 ],
 "metadata": {
  "kernelspec": {
   "display_name": "Python 3 (ipykernel)",
   "language": "python",
   "name": "python3"
  },
  "language_info": {
   "codemirror_mode": {
    "name": "ipython",
    "version": 3
   },
   "file_extension": ".py",
   "mimetype": "text/x-python",
   "name": "python",
   "nbconvert_exporter": "python",
   "pygments_lexer": "ipython3",
   "version": "3.8.5"
  }
 },
 "nbformat": 4,
 "nbformat_minor": 5
}
