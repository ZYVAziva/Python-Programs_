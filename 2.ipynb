{
 "cells": [
  {
   "cell_type": "code",
   "execution_count": null,
   "id": "345505ab",
   "metadata": {},
   "outputs": [],
   "source": [
    "#Question no:2"
   ]
  },
  {
   "cell_type": "code",
   "execution_count": null,
   "id": "630b5d44",
   "metadata": {},
   "outputs": [],
   "source": [
    "2. Write a Python program to print the value of 22n +n+5 for n provided by the user. ( Check \n",
    "   for n = 0 -ve and positive numbers) Provide output which you obtain if you input the last two \n",
    "   digits of your KTU id as a comment .( n should be declared using above naming convention \n",
    "   as n_cs001, replace the suffix with your id )"
   ]
  },
  {
   "cell_type": "code",
   "execution_count": null,
   "id": "74cc72b2",
   "metadata": {},
   "outputs": [],
   "source": [
    "# NAME : GOPIKA GOPAKUMAR"
   ]
  },
  {
   "cell_type": "code",
   "execution_count": null,
   "id": "123e9ebf",
   "metadata": {},
   "outputs": [],
   "source": [
    "# ROLL NO: 10"
   ]
  },
  {
   "cell_type": "code",
   "execution_count": null,
   "id": "eec0c389",
   "metadata": {},
   "outputs": [],
   "source": [
    "# KTU ID : CEA20EC010"
   ]
  },
  {
   "cell_type": "code",
   "execution_count": null,
   "id": "6b5f0f4d",
   "metadata": {},
   "outputs": [],
   "source": [
    "# INPUT : 10"
   ]
  },
  {
   "cell_type": "code",
   "execution_count": 8,
   "id": "c009beab",
   "metadata": {},
   "outputs": [
    {
     "name": "stdout",
     "output_type": "stream",
     "text": [
      "Enter a value : 10\n",
      "The value of 22n +n +5 when n = 10 is :  235\n",
      "The value is positive\n"
     ]
    }
   ],
   "source": [
    "try:\n",
    "    n_ec010=int(input(\"Enter a value : \"))                      # Input : 10 ( KTU ID : CEA20EC010 - 10)\n",
    "    \n",
    "    value_ec010=22*n_ec010 +n_ec010 +5\n",
    "    \n",
    "    print(\"The value of 22n +n +5 when n =\",n_ec010, \"is : \",value_ec010 )\n",
    "    \n",
    "    if n_ec010==0:\n",
    "        print(\"The value is 5\")\n",
    "    elif  n_ec010<0:\n",
    "        print(\"The value is negative\")\n",
    "    else:\n",
    "        print(\"The value is positive\")\n",
    "    \n",
    "except ValueError:\n",
    "    print(\"Invalid\")\n",
    "    \n",
    "    #Output:\n",
    "    #      The value of 22n +n +5 when n = 10.0 is :  235.0\n"
   ]
  },
  {
   "cell_type": "code",
   "execution_count": null,
   "id": "4a3e5f09",
   "metadata": {},
   "outputs": [],
   "source": []
  }
 ],
 "metadata": {
  "kernelspec": {
   "display_name": "Python 3 (ipykernel)",
   "language": "python",
   "name": "python3"
  },
  "language_info": {
   "codemirror_mode": {
    "name": "ipython",
    "version": 3
   },
   "file_extension": ".py",
   "mimetype": "text/x-python",
   "name": "python",
   "nbconvert_exporter": "python",
   "pygments_lexer": "ipython3",
   "version": "3.8.5"
  }
 },
 "nbformat": 4,
 "nbformat_minor": 5
}
