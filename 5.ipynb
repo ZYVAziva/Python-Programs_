{
 "cells": [
  {
   "cell_type": "code",
   "execution_count": null,
   "id": "7f255bc8",
   "metadata": {},
   "outputs": [],
   "source": [
    "#Question no:5"
   ]
  },
  {
   "cell_type": "code",
   "execution_count": null,
   "id": "8c26e3d3",
   "metadata": {},
   "outputs": [],
   "source": [
    "5. Write a program to count the digits of a given number using recursion. Strip all characters \n",
    "   from your ktu id ( eg cea14cs001 → 14001 ) multiply it with your the date portion of your \n",
    "   date of birth and input it to the program. Include the number you got as a comment. \n",
    "   Number should be read from keyboard and variable names should follow the above naming \n",
    "   convention."
   ]
  },
  {
   "cell_type": "code",
   "execution_count": null,
   "id": "f4d78ad2",
   "metadata": {},
   "outputs": [],
   "source": [
    "# NAME : GOPIKA GOPAKUMAR"
   ]
  },
  {
   "cell_type": "code",
   "execution_count": null,
   "id": "f926e08a",
   "metadata": {},
   "outputs": [],
   "source": [
    "# ROLL NO : 10"
   ]
  },
  {
   "cell_type": "code",
   "execution_count": null,
   "id": "f9d0ba33",
   "metadata": {},
   "outputs": [],
   "source": [
    "# KTU ID : CEA20EC010"
   ]
  },
  {
   "cell_type": "code",
   "execution_count": null,
   "id": "bc015b93",
   "metadata": {},
   "outputs": [],
   "source": [
    "#Input : 20010 X 3 = 60030   (Date of Birth : 03/06/2002)"
   ]
  },
  {
   "cell_type": "code",
   "execution_count": 18,
   "id": "d8ef3214",
   "metadata": {},
   "outputs": [
    {
     "name": "stdout",
     "output_type": "stream",
     "text": [
      "Enter the Number : 60030\n",
      "5\n"
     ]
    }
   ],
   "source": [
    "try:\n",
    "    n_ec010=int(input(\"Enter the Number : \")) #Input 60030 (KTU ID :CEA20EC010  -  20010 ,Date of Birth : 03/06/2002)\n",
    "    if n_ec010 >0:\n",
    "        num_ec010=n_ec010\n",
    "    else:\n",
    "        num_ec010=-(n_ec010)\n",
    "    def digit(num_ec010):\n",
    "        count_ec010=0\n",
    "        while num_ec010>0:\n",
    "        \n",
    "            reminder_ec010= num_ec010%10\n",
    "            count_ec010=count_ec010+1\n",
    "            num_ec010=num_ec010//10\n",
    "\n",
    "        return (count_ec010)\n",
    "    print(digit(num_ec010))\n",
    "        \n",
    "except ValueError:\n",
    "    print(\"Invalid\")\n",
    "\n"
   ]
  },
  {
   "cell_type": "code",
   "execution_count": null,
   "id": "622b591e",
   "metadata": {},
   "outputs": [],
   "source": []
  }
 ],
 "metadata": {
  "kernelspec": {
   "display_name": "Python 3 (ipykernel)",
   "language": "python",
   "name": "python3"
  },
  "language_info": {
   "codemirror_mode": {
    "name": "ipython",
    "version": 3
   },
   "file_extension": ".py",
   "mimetype": "text/x-python",
   "name": "python",
   "nbconvert_exporter": "python",
   "pygments_lexer": "ipython3",
   "version": "3.8.5"
  }
 },
 "nbformat": 4,
 "nbformat_minor": 5
}
